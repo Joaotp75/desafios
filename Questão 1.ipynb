{
 "cells": [
  {
   "cell_type": "code",
   "execution_count": null,
   "id": "6b9a8104",
   "metadata": {},
   "outputs": [],
   "source": [
    "import pandas as pd\n",
    "import numpy as np\n",
    "import datetime as dt\n",
    "\n",
    "stock_prices = pd.read_csv('stock_prices.csv')\n",
    "market_prices = pd.read_csv('market_prices.csv')\n",
    "\n",
    "stock_prices['Date'] = pd.to_datetime(stock_prices['Date'])\n",
    "market_prices['Date'] = pd.to_datetime(market_prices['Date'])\n",
    "\n",
    "start_date = dt.datetime.now() - dt.timedelta(days=5*365)\n",
    "stock_prices = stock_prices[stock_prices['Date'] >= start_date]\n",
    "market_prices = market_prices[market_prices['Date'] >= start_date]\n",
    "\n",
    "stock_returns = stock_prices['Close'].pct_change()\n",
    "market_returns = market_prices['Close'].pct_change()\n",
    "\n",
    "covariance = np.cov(stock_returns, market_returns)[0][1]\n",
    "market_variance = np.var(market_returns)\n",
    "\n",
    "betas = {}\n",
    "for stock in stock_prices.columns[1:]:\n",
    "    stock_returns = stock_prices[stock].pct_change()\n",
    "    beta = covariance / market_variance\n",
    "    betas[stock] = beta\n",
    "\n",
    "for stock, beta in betas.items():\n",
    "    print(f'{stock}: {beta}')\n",
    "\n",
    "#O código calcula o beta das ações levando em conta dois inputs: um arquivo csv com a cotação das ações e suas respectivas datas, e um arquivo csv com a cotação do índice utilizado como benchmark do mercado. \n",
    "#Ela filtra os dados dos últimos 5 anos para fazer o cálculo."
   ]
  }
 ],
 "metadata": {
  "kernelspec": {
   "display_name": "Python 3 (ipykernel)",
   "language": "python",
   "name": "python3"
  },
  "language_info": {
   "codemirror_mode": {
    "name": "ipython",
    "version": 3
   },
   "file_extension": ".py",
   "mimetype": "text/x-python",
   "name": "python",
   "nbconvert_exporter": "python",
   "pygments_lexer": "ipython3",
   "version": "3.9.13"
  }
 },
 "nbformat": 4,
 "nbformat_minor": 5
}
