{
 "cells": [
  {
   "cell_type": "code",
   "execution_count": 20,
   "id": "7c70addc",
   "metadata": {},
   "outputs": [
    {
     "ename": "IndentationError",
     "evalue": "unexpected indent (3293998863.py, line 5)",
     "output_type": "error",
     "traceback": [
      "\u001b[1;36m  File \u001b[1;32m\"C:\\Users\\Usuario\\AppData\\Local\\Temp\\ipykernel_28956\\3293998863.py\"\u001b[1;36m, line \u001b[1;32m5\u001b[0m\n\u001b[1;33m    strike_price = float(input(\"Qual o preço de exercício da opção:\"))\u001b[0m\n\u001b[1;37m    ^\u001b[0m\n\u001b[1;31mIndentationError\u001b[0m\u001b[1;31m:\u001b[0m unexpected indent\n"
     ]
    }
   ],
   "source": [
    "from scipy.stats import norm\n",
    "from math import exp, sqrt, log\n",
    "\n",
    "spot_price = float(input(\"Qual o preço atual da opção:\"))\n",
    "    strike_price = float(input(\"Qual o preço de exercício da opção:\"))\n",
    "    time_to_maturity = float(input(\"Tempo até o vencimento:\"))\n",
    "    risk_free_rate = float(input(\"Taxa de juros livre de risco:\"))\n",
    "    volatility = float(input(\"Volatilidade:\"))\n",
    "    option_type = input(\"call ou put?\")\n",
    "\n",
    "def black_scholes(spot_price, strike_price, time_to_maturity, risk_free_rate, volatility, option_type):\n",
    "    d1 = (log(spot_price/strike_price) + (risk_free_rate + 0.5 * volatility**2) * time_to_maturity) / (volatility * sqrt(time_to_maturity))\n",
    "    d2 = d1 - volatility * sqrt(time_to_maturity)\n",
    "    if option_type == \"call\":\n",
    "        option_price = spot_price * norm.cdf(d1) - strike_price * exp(-risk_free_rate * time_to_maturity) * norm.cdf(d2)\n",
    "    elif option_type == \"put\":\n",
    "        option_price = strike_price * exp(-risk_free_rate * time_to_maturity) * norm.cdf(-d2) - spot_price * norm.cdf(-d1)\n",
    "    else:\n",
    "        raise ValueError(\"Option type must be either 'call' or 'put'.\")\n",
    "    return option_price\n"
   ]
  },
  {
   "cell_type": "code",
   "execution_count": 18,
   "id": "7cf892e9",
   "metadata": {},
   "outputs": [
    {
     "data": {
      "text/plain": [
       "<function __main__.black_scholes(spot_price, strike_price, time_to_maturity, risk_free_rate, volatility, option_type)>"
      ]
     },
     "execution_count": 18,
     "metadata": {},
     "output_type": "execute_result"
    }
   ],
   "source": [
    "black_scholes\n"
   ]
  }
 ],
 "metadata": {
  "kernelspec": {
   "display_name": "Python 3 (ipykernel)",
   "language": "python",
   "name": "python3"
  },
  "language_info": {
   "codemirror_mode": {
    "name": "ipython",
    "version": 3
   },
   "file_extension": ".py",
   "mimetype": "text/x-python",
   "name": "python",
   "nbconvert_exporter": "python",
   "pygments_lexer": "ipython3",
   "version": "3.9.13"
  }
 },
 "nbformat": 4,
 "nbformat_minor": 5
}
